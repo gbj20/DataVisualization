{
  "nbformat": 4,
  "nbformat_minor": 0,
  "metadata": {
    "colab": {
      "provenance": [],
      "authorship_tag": "ABX9TyPpN1LSaHNTwm7Zys5Kiz+s",
      "include_colab_link": true
    },
    "kernelspec": {
      "name": "python3",
      "display_name": "Python 3"
    },
    "language_info": {
      "name": "python"
    }
  },
  "cells": [
    {
      "cell_type": "markdown",
      "metadata": {
        "id": "view-in-github",
        "colab_type": "text"
      },
      "source": [
        "<a href=\"https://colab.research.google.com/github/gbj20/DataVisualization/blob/main/Assignment2.ipynb\" target=\"_parent\"><img src=\"https://colab.research.google.com/assets/colab-badge.svg\" alt=\"Open In Colab\"/></a>"
      ]
    },
    {
      "cell_type": "code",
      "source": [
        "def mcculloch_pitts(input1, input2):\n",
        "    # Define weights and threshold for the ANDNOT function\n",
        "    weight1 = 1\n",
        "    weight2 = -1\n",
        "    threshold = 1\n",
        "\n",
        "    # Compute the weighted sum\n",
        "    weighted_sum = weight1 * input1 + weight2 * input2\n",
        "\n",
        "    # Check if the weighted sum is greater than or equal to the threshold\n",
        "    if weighted_sum >= threshold:\n",
        "        return 1\n",
        "    else:\n",
        "        return 0\n",
        "\n",
        "# Test the ANDNOT function\n",
        "print(\"ANDNOT(0, 0) =\", mcculloch_pitts(0, 0))\n",
        "print(\"ANDNOT(1, 0) =\", mcculloch_pitts(1, 0))\n",
        "print(\"ANDNOT(0, 1) =\", mcculloch_pitts(0, 1))\n",
        "print(\"ANDNOT(1, 1) =\", mcculloch_pitts(1, 1))\n"
      ],
      "metadata": {
        "colab": {
          "base_uri": "https://localhost:8080/"
        },
        "id": "n38Hs-WSbd98",
        "outputId": "a7e99c60-f3f2-49de-9d0b-5cca9fce6cce"
      },
      "execution_count": null,
      "outputs": [
        {
          "output_type": "stream",
          "name": "stdout",
          "text": [
            "ANDNOT(0, 0) = 0\n",
            "ANDNOT(1, 0) = 1\n",
            "ANDNOT(0, 1) = 0\n",
            "ANDNOT(1, 1) = 0\n"
          ]
        }
      ]
    }
  ]
}