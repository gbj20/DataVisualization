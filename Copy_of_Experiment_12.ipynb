{
  "nbformat": 4,
  "nbformat_minor": 0,
  "metadata": {
    "colab": {
      "provenance": []
    },
    "kernelspec": {
      "name": "python3",
      "display_name": "Python 3"
    },
    "language_info": {
      "name": "python"
    }
  },
  "cells": [
    {
      "cell_type": "code",
      "source": [
        "import tensorflow as tf\n",
        "from tensorflow.keras import layers, models\n",
        "\n",
        "# Load and prepare MNIST dataset\n",
        "mnist = tf.keras.datasets.mnist\n",
        "(train_images, train_labels), (test_images, test_labels) = mnist.load_data()\n",
        "train_images, test_images = train_images / 255.0, test_images / 255.0\n",
        "\n",
        "# Define the model architecture\n",
        "model = models.Sequential([\n",
        "    layers.Flatten(input_shape=(28, 28)),\n",
        "    layers.Dense(128, activation='relu'),\n",
        "    layers.Dropout(0.2),\n",
        "    layers.Dense(10, activation='softmax')\n",
        "])\n",
        "\n",
        "# Compile the model\n",
        "model.compile(optimizer='adam',\n",
        "              loss='sparse_categorical_crossentropy',\n",
        "              metrics=['accuracy'])\n",
        "\n",
        "# Train the model\n",
        "model.fit(train_images, train_labels, epochs=5)\n",
        "\n",
        "# Evaluate the model\n",
        "test_loss, test_acc = model.evaluate(test_images, test_labels)\n",
        "print(f'Test accuracy: {test_acc}')\n"
      ],
      "metadata": {
        "colab": {
          "base_uri": "https://localhost:8080/"
        },
        "id": "Sf85ogvUGcAc",
        "outputId": "cac34861-9a84-4b8b-dcea-94ca83e2efaa"
      },
      "execution_count": null,
      "outputs": [
        {
          "output_type": "stream",
          "name": "stdout",
          "text": [
            "Downloading data from https://storage.googleapis.com/tensorflow/tf-keras-datasets/mnist.npz\n",
            "11490434/11490434 [==============================] - 0s 0us/step\n",
            "Epoch 1/5\n",
            "1875/1875 [==============================] - 13s 6ms/step - loss: 0.2971 - accuracy: 0.9137\n",
            "Epoch 2/5\n",
            "1875/1875 [==============================] - 10s 5ms/step - loss: 0.1474 - accuracy: 0.9558\n",
            "Epoch 3/5\n",
            "1875/1875 [==============================] - 8s 4ms/step - loss: 0.1120 - accuracy: 0.9661\n",
            "Epoch 4/5\n",
            "1875/1875 [==============================] - 7s 4ms/step - loss: 0.0904 - accuracy: 0.9718\n",
            "Epoch 5/5\n",
            "1875/1875 [==============================] - 8s 4ms/step - loss: 0.0781 - accuracy: 0.9756\n",
            "313/313 [==============================] - 1s 2ms/step - loss: 0.0793 - accuracy: 0.9760\n",
            "Test accuracy: 0.9760000109672546\n"
          ]
        }
      ]
    },
    {
      "cell_type": "code",
      "source": [
        "import tensorflow as tf\n",
        "import matplotlib.pyplot as plt\n",
        "\n",
        "# Load pre-trained model\n",
        "model = tf.keras.applications.ResNet50(include_top=True, weights='imagenet')\n",
        "\n",
        "# Load MNIST data\n",
        "mnist_data = tf.keras.datasets.mnist\n",
        "(_, _), (x_test, y_test) = mnist_data.load_data()\n",
        "x_test = tf.image.grayscale_to_rgb(tf.expand_dims(x_test, axis=-1))\n",
        "\n",
        "# Choose a random image from MNIST dataset\n",
        "image = x_test[1]\n",
        "\n",
        "# Resize the image to match the input shape of the ResNet50 model\n",
        "image_resized = tf.image.resize(image, (224, 224))\n",
        "\n",
        "# Make prediction\n",
        "output = model.predict(image_resized[np.newaxis, ...])\n",
        "\n",
        "# Get predicted label\n",
        "predicted = tf.argmax(output, axis=-1)\n",
        "\n",
        "# Display image and predicted label\n",
        "plt.imshow(image.numpy().squeeze(), cmap='gray')\n",
        "plt.title(f'Predicted Label: {predicted.item()}, Actual Label: {y_test[0]}')\n",
        "plt.axis('off')\n",
        "plt.show()\n"
      ],
      "metadata": {
        "colab": {
          "base_uri": "https://localhost:8080/",
          "height": 778
        },
        "id": "g3lepJqgIcbJ",
        "outputId": "9721b18f-fa22-493d-d93a-a81d20bc3ab5"
      },
      "execution_count": null,
      "outputs": [
        {
          "output_type": "stream",
          "name": "stdout",
          "text": [
            "1/1 [==============================] - 3s 3s/step\n"
          ]
        },
        {
          "output_type": "error",
          "ename": "AttributeError",
          "evalue": "'tensorflow.python.framework.ops.EagerTensor' object has no attribute 'item'",
          "traceback": [
            "\u001b[0;31m---------------------------------------------------------------------------\u001b[0m",
            "\u001b[0;31mAttributeError\u001b[0m                            Traceback (most recent call last)",
            "\u001b[0;32m<ipython-input-8-0250adda44c7>\u001b[0m in \u001b[0;36m<cell line: 26>\u001b[0;34m()\u001b[0m\n\u001b[1;32m     24\u001b[0m \u001b[0;31m# Display image and predicted label\u001b[0m\u001b[0;34m\u001b[0m\u001b[0;34m\u001b[0m\u001b[0m\n\u001b[1;32m     25\u001b[0m \u001b[0mplt\u001b[0m\u001b[0;34m.\u001b[0m\u001b[0mimshow\u001b[0m\u001b[0;34m(\u001b[0m\u001b[0mimage\u001b[0m\u001b[0;34m.\u001b[0m\u001b[0mnumpy\u001b[0m\u001b[0;34m(\u001b[0m\u001b[0;34m)\u001b[0m\u001b[0;34m.\u001b[0m\u001b[0msqueeze\u001b[0m\u001b[0;34m(\u001b[0m\u001b[0;34m)\u001b[0m\u001b[0;34m,\u001b[0m \u001b[0mcmap\u001b[0m\u001b[0;34m=\u001b[0m\u001b[0;34m'gray'\u001b[0m\u001b[0;34m)\u001b[0m\u001b[0;34m\u001b[0m\u001b[0;34m\u001b[0m\u001b[0m\n\u001b[0;32m---> 26\u001b[0;31m \u001b[0mplt\u001b[0m\u001b[0;34m.\u001b[0m\u001b[0mtitle\u001b[0m\u001b[0;34m(\u001b[0m\u001b[0;34mf'Predicted Label: {predicted.item()}, Actual Label: {y_test[0]}'\u001b[0m\u001b[0;34m)\u001b[0m\u001b[0;34m\u001b[0m\u001b[0;34m\u001b[0m\u001b[0m\n\u001b[0m\u001b[1;32m     27\u001b[0m \u001b[0mplt\u001b[0m\u001b[0;34m.\u001b[0m\u001b[0maxis\u001b[0m\u001b[0;34m(\u001b[0m\u001b[0;34m'off'\u001b[0m\u001b[0;34m)\u001b[0m\u001b[0;34m\u001b[0m\u001b[0;34m\u001b[0m\u001b[0m\n\u001b[1;32m     28\u001b[0m \u001b[0mplt\u001b[0m\u001b[0;34m.\u001b[0m\u001b[0mshow\u001b[0m\u001b[0;34m(\u001b[0m\u001b[0;34m)\u001b[0m\u001b[0;34m\u001b[0m\u001b[0;34m\u001b[0m\u001b[0m\n",
            "\u001b[0;32m/usr/local/lib/python3.10/dist-packages/tensorflow/python/framework/tensor.py\u001b[0m in \u001b[0;36m__getattr__\u001b[0;34m(self, name)\u001b[0m\n\u001b[1;32m    259\u001b[0m         \u001b[0mtf\u001b[0m\u001b[0;34m.\u001b[0m\u001b[0mexperimental\u001b[0m\u001b[0;34m.\u001b[0m\u001b[0mnumpy\u001b[0m\u001b[0;34m.\u001b[0m\u001b[0mexperimental_enable_numpy_behavior\u001b[0m\u001b[0;34m(\u001b[0m\u001b[0;34m)\u001b[0m\u001b[0;34m\u001b[0m\u001b[0;34m\u001b[0m\u001b[0m\n\u001b[1;32m    260\u001b[0m       \"\"\")\n\u001b[0;32m--> 261\u001b[0;31m     \u001b[0mself\u001b[0m\u001b[0;34m.\u001b[0m\u001b[0m__getattribute__\u001b[0m\u001b[0;34m(\u001b[0m\u001b[0mname\u001b[0m\u001b[0;34m)\u001b[0m\u001b[0;34m\u001b[0m\u001b[0;34m\u001b[0m\u001b[0m\n\u001b[0m\u001b[1;32m    262\u001b[0m \u001b[0;34m\u001b[0m\u001b[0m\n\u001b[1;32m    263\u001b[0m   \u001b[0;34m@\u001b[0m\u001b[0mproperty\u001b[0m\u001b[0;34m\u001b[0m\u001b[0;34m\u001b[0m\u001b[0m\n",
            "\u001b[0;31mAttributeError\u001b[0m: 'tensorflow.python.framework.ops.EagerTensor' object has no attribute 'item'"
          ]
        },
        {
          "output_type": "display_data",
          "data": {
            "text/plain": [
              "<Figure size 640x480 with 1 Axes>"
            ],
            "image/png": "[encoded data removed]"
          },
          "metadata": {}
        }
      ]
    },
    {
      "cell_type": "markdown",
      "source": [
        "**Handwritten Digit Recognition on MNIST dataset**\n",
        "1. First of all, import all the libraries required. We will import the fetch_openml from the sklearn.datasets library.\n",
        "\n",
        "2. Create a variable mnist, and store in it the mnsit_784 dataset from the featch_openml And you can further print and see the contents of this mnist dataset. You can see its keys, its data, its corresponding labels, and more."
      ],
      "metadata": {
        "id": "cntlhf8D58Is"
      }
    },
    {
      "cell_type": "code",
      "source": [
        "# fetching dataset\n",
        "from sklearn.datasets import fetch_openml\n",
        "import matplotlib\n",
        "import matplotlib.pyplot as plt\n",
        "import numpy as np\n",
        "from sklearn.linear_model import LogisticRegression\n",
        "from sklearn.model_selection import cross_val_score\n",
        "\n",
        "mnist = fetch_openml('mnist_784')\n"
      ],
      "metadata": {
        "colab": {
          "base_uri": "https://localhost:8080/"
        },
        "id": "pIgOQi0f56lf",
        "outputId": "1603ef5f-8c58-4a7e-edc8-a24954ed6845"
      },
      "execution_count": null,
      "outputs": [
        {
          "output_type": "stream",
          "name": "stderr",
          "text": [
            "/usr/local/lib/python3.10/dist-packages/sklearn/datasets/_openml.py:968: FutureWarning: The default value of `parser` will change from `'liac-arff'` to `'auto'` in 1.4. You can set `parser='auto'` to silence this warning. Therefore, an `ImportError` will be raised from 1.4 if the dataset is dense and pandas is not installed. Note that the pandas parser may return different data types. See the Notes Section in fetch_openml's API doc for details.\n",
            "  warn(\n"
          ]
        }
      ]
    },
    {
      "cell_type": "markdown",
      "source": [
        "**Slicing the dataset, and plotting the images**\n",
        "3. Create array variables x and y. Store in them the data and the targets respectively of the mnist As we discussed above, we have 784 (28x28) pixels of features, and these are now stored in x. Variable y has the corresponding digit that the picture resembled by x contains.\n",
        "\n",
        "4. You can try to see that picture x using matplotlib Since the pixels here are stacked together in a 1D array x for memory issues, you’ll have to reshape it back to 26x26. Create a variable some_digit and fill it with any random digit array from the dataset. Reshape it and store it in another variable some_digit_image.\n",
        "\n",
        "5. You can now simply use the command below to get that image plotted. We have used the imshow attribute of pyplot and have fed the some_digit_image 2D array of pixel data into it."
      ],
      "metadata": {
        "id": "WjGU8KJN6tUz"
      }
    },
    {
      "cell_type": "code",
      "source": [
        "x, y = mnist['data'], mnist['target']\n",
        "\n",
        "some_digit = x.to_numpy()[36001]\n",
        "some_digit_image = some_digit.reshape(28, 28)  # let's reshape to plot it\n",
        "\n",
        "plt.imshow(some_digit_image, cmap=matplotlib.cm.binary,\n",
        "           interpolation='nearest')\n",
        "plt.axis(\"off\")\n",
        "plt.show()\n"
      ],
      "metadata": {
        "id": "tTW1QzDV7Dlq"
      },
      "execution_count": null,
      "outputs": []
    },
    {
      "cell_type": "markdown",
      "source": [
        "6. And since the data, we stored corresponded to the 36000th element, the image we were shown was:"
      ],
      "metadata": {
        "id": "-P2MY2fG7Jdz"
      }
    },
    {
      "cell_type": "code",
      "source": [
        "x, y = mnist['data'], mnist['target']\n",
        "\n",
        "some_digit = x.to_numpy()[36001]\n",
        "some_digit_image = some_digit.reshape(28, 28)  # let's reshape to plot it\n",
        "\n",
        "plt.imshow(some_digit_image, cmap=matplotlib.cm.binary,\n",
        "           interpolation='nearest')\n",
        "plt.axis(\"off\")\n",
        "plt.show()\n"
      ],
      "metadata": {
        "colab": {
          "base_uri": "https://localhost:8080/",
          "height": 406
        },
        "id": "FAoFCLjC7vWJ",
        "outputId": "f690a635-c84a-4a40-8e8d-0678a98c98d7"
      },
      "execution_count": null,
      "outputs": [
        {
          "output_type": "display_data",
          "data": {
            "text/plain": [
              "<Figure size 640x480 with 1 Axes>"
            ],
            "image/png": "[encoded data removed]"
          },
          "metadata": {}
        }
      ]
    }
  ]
}