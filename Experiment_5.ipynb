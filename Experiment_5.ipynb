{
  "nbformat": 4,
  "nbformat_minor": 0,
  "metadata": {
    "colab": {
      "provenance": [],
      "include_colab_link": true
    },
    "kernelspec": {
      "name": "python3",
      "display_name": "Python 3"
    },
    "language_info": {
      "name": "python"
    }
  },
  "cells": [
    {
      "cell_type": "markdown",
      "metadata": {
        "id": "view-in-github",
        "colab_type": "text"
      },
      "source": [
        "<a href=\"https://colab.research.google.com/github/gbj20/DataVisualization/blob/main/Experiment_5.ipynb\" target=\"_parent\"><img src=\"https://colab.research.google.com/assets/colab-badge.svg\" alt=\"Open In Colab\"/></a>"
      ]
    },
    {
      "cell_type": "code",
      "execution_count": null,
      "metadata": {
        "id": "p37ols_gDcmL",
        "outputId": "7b361f94-8567-4f07-9160-a29150d29985",
        "colab": {
          "base_uri": "https://localhost:8080/"
        }
      },
      "outputs": [
        {
          "output_type": "stream",
          "name": "stdout",
          "text": [
            "[[0.03851019]\n",
            " [0.97640436]\n",
            " [0.97640416]\n",
            " [0.0085255 ]]\n"
          ]
        }
      ],
      "source": [
        "import numpy as np\n",
        "\n",
        "# Define sigmoid activation function\n",
        "def sigmoid(x):\n",
        "    return 1 / (1 + np.exp(-x))\n",
        "\n",
        "# Define derivative of sigmoid activation function\n",
        "def sigmoid_derivative(x):\n",
        "    return x * (1 - x)\n",
        "\n",
        "# Define training inputs\n",
        "inputs = np.array([[0, 0], [0, 1], [1, 0], [1, 1]])\n",
        "\n",
        "# Define training outputs\n",
        "outputs = np.array([[0], [1], [1], [0]])\n",
        "\n",
        "# Define random weights for hidden layer\n",
        "hidden_weights = np.random.uniform(size=(2, 3))\n",
        "\n",
        "# Define random weights for output layer\n",
        "output_weights = np.random.uniform(size=(3, 1))\n",
        "\n",
        "# Set learning rate\n",
        "learning_rate = 0.7\n",
        "\n",
        "# Train the network\n",
        "for i in range(10000):\n",
        "\n",
        "    # Forward propagation\n",
        "    hidden_layer_activation = sigmoid(np.dot(inputs, hidden_weights))\n",
        "    output_layer_activation = sigmoid(np.dot(hidden_layer_activation, output_weights))\n",
        "\n",
        "    # Calculate error\n",
        "    error = outputs - output_layer_activation\n",
        "\n",
        "    # Backpropagation\n",
        "    output_layer_error = error * sigmoid_derivative(output_layer_activation)\n",
        "    hidden_layer_error = np.dot(output_layer_error, output_weights.T) * sigmoid_derivative(hidden_layer_activation)\n",
        "\n",
        "    # Update weights\n",
        "    output_weights += np.dot(hidden_layer_activation.T, output_layer_error) * learning_rate\n",
        "    hidden_weights += np.dot(inputs.T, hidden_layer_error) * learning_rate\n",
        "\n",
        "# Test the network\n",
        "hidden_layer_activation = sigmoid(np.dot(inputs, hidden_weights))\n",
        "output_layer_activation = sigmoid(np.dot(hidden_layer_activation, output_weights))\n",
        "print(output_layer_activation)"
      ]
    }
  ]
}